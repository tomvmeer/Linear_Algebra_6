{
 "cells": [
  {
   "cell_type": "code",
   "execution_count": 8,
   "metadata": {
    "collapsed": true
   },
   "outputs": [],
   "source": [
    "import numpy as np\n",
    "import pandas as pd\n",
    "import math\n",
    "ratings = pd.read_csv('ratings.csv')\n",
    "movies = pd.read_csv('movies.csv')"
   ]
  },
  {
   "cell_type": "code",
   "execution_count": 9,
   "metadata": {
    "collapsed": true,
    "scrolled": true
   },
   "outputs": [],
   "source": [
    "df = pd.merge(ratings, movies, on='movieId')\n",
    "df['rating'] = df['rating'].apply(math.ceil)\n",
    "df['rating'] = df['rating']-3\n",
    "toKeep = list(df.groupby('title').count().sort_values('userId', ascending=False).head(7).index)\n",
    "keep_df = df[df[\"title\"].isin(toKeep)]\n",
    "users_keep = pd.DataFrame(keep_df.groupby('userId').count()['title'] == 7)\n",
    "userlist = list(users_keep[users_keep['title'] == True].index)\n",
    "df = keep_df[keep_df['userId'].isin(userlist)][['rating', 'title', 'userId']]"
   ]
  },
  {
   "cell_type": "code",
   "execution_count": 18,
   "metadata": {
    "collapsed": true
   },
   "outputs": [],
   "source": [
    "avg_vector = np.matrix(df.groupby('title')['rating'].mean()).transpose()"
   ]
  },
  {
   "cell_type": "code",
   "execution_count": 52,
   "metadata": {
    "collapsed": true
   },
   "outputs": [],
   "source": [
    "angles = {}\n",
    "for user_id in df['userId'].unique():\n",
    "    user_vector = np.matrix(df[df['userId'] == user_id].sort_values('title')['rating']).transpose()\n",
    "    angles[user_id] = math.acos((avg_vector.transpose()*user_vector)/((sum(float(i)**2 for i in avg_vector)**0.5)*(sum(float(i)**2 for i in user_vector)**0.5)))"
   ]
  },
  {
   "cell_type": "code",
   "execution_count": 62,
   "metadata": {},
   "outputs": [
    {
     "data": {
      "text/plain": [
       "[122, 464]"
      ]
     },
     "execution_count": 62,
     "metadata": {},
     "output_type": "execute_result"
    }
   ],
   "source": [
    "[i for i in angles if angles[i] == max(angles.values())]\n",
    "[i for i in angles if angles[i] == min(angles.values())]"
   ]
  },
  {
   "cell_type": "code",
   "execution_count": 67,
   "metadata": {
    "collapsed": true
   },
   "outputs": [],
   "source": [
    "x = np.matrix([[1] for i in range(7)])"
   ]
  },
  {
   "cell_type": "code",
   "execution_count": 69,
   "metadata": {
    "collapsed": true
   },
   "outputs": [],
   "source": [
    "angles = {}\n",
    "for user_id in df['userId'].unique():\n",
    "    user_vector = np.matrix(df[df['userId'] == user_id].sort_values('title')['rating']).transpose()\n",
    "    angles[user_id] = math.acos((x.transpose()*user_vector)/((sum(float(i)**2 for i in x)**0.5)*(sum(float(i)**2 for i in user_vector)**0.5)))\n",
    "    [i for i in angles if angles[i] == min(angles.values())]"
   ]
  },
  {
   "cell_type": "code",
   "execution_count": 84,
   "metadata": {},
   "outputs": [
    {
     "data": {
      "text/plain": [
       "[78, 140, 156, 292, 432]"
      ]
     },
     "execution_count": 84,
     "metadata": {},
     "output_type": "execute_result"
    }
   ],
   "source": [
    "angles = {}\n",
    "for user_id in df['userId'].unique():\n",
    "    user_vector = np.matrix(df[df['userId'] == user_id].sort_values('title')['rating']).transpose()\n",
    "    angles[user_id] = abs(np.linalg.norm(user_vector, 1) -  np.linalg.norm(x, 1))\n",
    "[i for i in angles if angles[i] == min(angles.values())]"
   ]
  },
  {
   "cell_type": "code",
   "execution_count": 85,
   "metadata": {},
   "outputs": [
    {
     "data": {
      "text/plain": [
       "[140, 212]"
      ]
     },
     "execution_count": 85,
     "metadata": {},
     "output_type": "execute_result"
    }
   ],
   "source": [
    "angles = {}\n",
    "for user_id in df['userId'].unique():\n",
    "    user_vector = np.matrix(df[df['userId'] == user_id].sort_values('title')['rating']).transpose()\n",
    "    angles[user_id] = abs(np.linalg.norm(user_vector, 2) -  np.linalg.norm(x, 2))\n",
    "[i for i in angles if angles[i] == min(angles.values())]"
   ]
  },
  {
   "cell_type": "code",
   "execution_count": 87,
   "metadata": {},
   "outputs": [
    {
     "data": {
      "text/plain": [
       "[137, 140]"
      ]
     },
     "execution_count": 87,
     "metadata": {},
     "output_type": "execute_result"
    }
   ],
   "source": [
    "angles = {}\n",
    "for user_id in df['userId'].unique():\n",
    "    user_vector = np.matrix(df[df['userId'] == user_id].sort_values('title')['rating']).transpose()\n",
    "    angles[user_id] = abs(np.linalg.norm(user_vector, np.inf) -  np.linalg.norm(x, np.inf))\n",
    "[i for i in angles if angles[i] == min(angles.values())]"
   ]
  },
  {
   "cell_type": "code",
   "execution_count": null,
   "metadata": {
    "collapsed": true
   },
   "outputs": [],
   "source": [
    "y = np.matrix([[1], [-1], [0], [2], [-2], [0], [0]])"
   ]
  },
  {
   "cell_type": "code",
   "execution_count": null,
   "metadata": {
    "collapsed": true
   },
   "outputs": [],
   "source": []
  }
 ],
 "metadata": {
  "kernelspec": {
   "display_name": "Python 3",
   "language": "python",
   "name": "python3"
  },
  "language_info": {
   "codemirror_mode": {
    "name": "ipython",
    "version": 3
   },
   "file_extension": ".py",
   "mimetype": "text/x-python",
   "name": "python",
   "nbconvert_exporter": "python",
   "pygments_lexer": "ipython3",
   "version": "3.6.1"
  }
 },
 "nbformat": 4,
 "nbformat_minor": 2
}
